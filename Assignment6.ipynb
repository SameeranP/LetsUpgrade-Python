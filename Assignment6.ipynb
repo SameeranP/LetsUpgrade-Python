{
  "nbformat": 4,
  "nbformat_minor": 0,
  "metadata": {
    "colab": {
      "name": "Assignment6.ipynb",
      "provenance": [],
      "collapsed_sections": []
    },
    "kernelspec": {
      "name": "python3",
      "display_name": "Python 3"
    }
  },
  "cells": [
    {
      "cell_type": "code",
      "metadata": {
        "id": "nAREYZMCA50s",
        "colab_type": "code",
        "colab": {
          "base_uri": "https://localhost:8080/",
          "height": 84
        },
        "outputId": "3b08e743-ce36-4221-862f-34d3f148f0a9"
      },
      "source": [
        "#Question 1 file handling\n",
        "import sys\n",
        "print(\"Question 1: File handling\\n \\n\")\n",
        "f = open(\"myfile.txt\", \"x\")\n",
        "f = open('myfile.txt', 'r')\n",
        "try:\n",
        "    \n",
        "    f.write(\"Mumbo jumbo \\n\")\n",
        "\n",
        "except:\n",
        "    print(\"There is an error:\", sys.exc_info()[0])\n",
        "\n",
        "finally:\n",
        "    f.close()"
      ],
      "execution_count": 2,
      "outputs": [
        {
          "output_type": "stream",
          "text": [
            "Question 1: File handling\n",
            " \n",
            "\n",
            "There is an error: <class 'io.UnsupportedOperation'>\n"
          ],
          "name": "stdout"
        }
      ]
    },
    {
      "cell_type": "code",
      "metadata": {
        "id": "yAGjriUhBrii",
        "colab_type": "code",
        "colab": {
          "base_uri": "https://localhost:8080/",
          "height": 34
        },
        "outputId": "0d0ba502-cb5e-4f0c-e277-6a142eb7187b"
      },
      "source": [
        ""
      ],
      "execution_count": 3,
      "outputs": [
        {
          "output_type": "stream",
          "text": [
            "UsageError: %%writefile is a cell magic, but the cell body is empty.\n"
          ],
          "name": "stderr"
        }
      ]
    },
    {
      "cell_type": "code",
      "metadata": {
        "id": "RuVcRYW7BK8k",
        "colab_type": "code",
        "colab": {
          "base_uri": "https://localhost:8080/",
          "height": 34
        },
        "outputId": "83a43940-054a-4e63-b1f4-cb37c19e3167"
      },
      "source": [
        "#Question 2 : is a given number prime or not and do Unit Testing on it using PyLint & Unittest Library\n",
        "%%writefile check_prime.py\n",
        "'''\n",
        "is a given number prime or not and do Unit Testing on it using PyLint & Unittest Library\n",
        "'''\n",
        "def is_prime(num):\n",
        "    '''\n",
        "    Function to Check Prime takes an Input\n",
        "    '''\n",
        "    if num > 1:\n",
        "        for i in range(2, num):\n",
        "            if num % i == 0:\n",
        "                return False\n",
        "                \n",
        "        else:\n",
        "            return True\n",
        "           \n",
        "    else:\n",
        "        return False\n",
        "        "
      ],
      "execution_count": 77,
      "outputs": [
        {
          "output_type": "stream",
          "text": [
            "Overwriting check_prime.py\n"
          ],
          "name": "stdout"
        }
      ]
    },
    {
      "cell_type": "code",
      "metadata": {
        "id": "l4PQqDwICIVh",
        "colab_type": "code",
        "colab": {}
      },
      "source": [
        "# !pip install pylint"
      ],
      "execution_count": 78,
      "outputs": []
    },
    {
      "cell_type": "code",
      "metadata": {
        "id": "5x0olpCyCKdx",
        "colab_type": "code",
        "colab": {
          "base_uri": "https://localhost:8080/",
          "height": 151
        },
        "outputId": "88950da4-af9d-4247-94c1-179a79adab70"
      },
      "source": [
        "!pylint check_prime.py"
      ],
      "execution_count": 79,
      "outputs": [
        {
          "output_type": "stream",
          "text": [
            "************* Module check_prime\n",
            "check_prime.py:12:0: C0303: Trailing whitespace (trailing-whitespace)\n",
            "check_prime.py:15:0: C0303: Trailing whitespace (trailing-whitespace)\n",
            "check_prime.py:13:8: W0120: Else clause on loop without a break statement (useless-else-on-loop)\n",
            "\n",
            "------------------------------------------------------------------\n",
            "Your code has been rated at 5.71/10 (previous run: 6.25/10, -0.54)\n",
            "\n"
          ],
          "name": "stdout"
        }
      ]
    },
    {
      "cell_type": "code",
      "metadata": {
        "id": "azhrk497ChYV",
        "colab_type": "code",
        "colab": {
          "base_uri": "https://localhost:8080/",
          "height": 34
        },
        "outputId": "24db91e4-79c6-4d48-bcb1-ab663640477b"
      },
      "source": [
        "%%writefile prime_testing.py\n",
        "import unittest \n",
        "from check_prime import is_prime\n",
        "\n",
        "class test_Prime(unittest.TestCase):\n",
        "    def test_CheckPrime(self):\n",
        "        num = 7\n",
        "        result = is_prime(num)\n",
        "        self.assertEqual(result,True)\n",
        "\n",
        "    def test_NotPrimenumber(self):\n",
        "        num= 8\n",
        "        result = is_prime(num)\n",
        "        self.assertEqual(result,False)\n",
        "\n",
        "if __name__ == \"__main__\":\n",
        "    unittest.main()"
      ],
      "execution_count": 80,
      "outputs": [
        {
          "output_type": "stream",
          "text": [
            "Overwriting prime_testing.py\n"
          ],
          "name": "stdout"
        }
      ]
    },
    {
      "cell_type": "code",
      "metadata": {
        "id": "ljvGXKjtC5oi",
        "colab_type": "code",
        "colab": {
          "base_uri": "https://localhost:8080/",
          "height": 101
        },
        "outputId": "83a716b9-8211-4473-c622-0fbc129f331f"
      },
      "source": [
        "\n",
        "!python prime_testing.py"
      ],
      "execution_count": 81,
      "outputs": [
        {
          "output_type": "stream",
          "text": [
            "..\n",
            "----------------------------------------------------------------------\n",
            "Ran 2 tests in 0.000s\n",
            "\n",
            "OK\n"
          ],
          "name": "stdout"
        }
      ]
    },
    {
      "cell_type": "code",
      "metadata": {
        "id": "QTD29QtJMUp8",
        "colab_type": "code",
        "colab": {}
      },
      "source": [
        ""
      ],
      "execution_count": null,
      "outputs": []
    }
  ]
}